{
 "cells": [
  {
   "cell_type": "code",
   "execution_count": 6,
   "id": "529d60a0-2d58-44ad-afce-6cd787a7468c",
   "metadata": {},
   "outputs": [],
   "source": [
    "import numpy as np\n",
    "import pandas as pd\n",
    "import matplotlib.pyplot as plt\n",
    "import os"
   ]
  },
  {
   "cell_type": "code",
   "execution_count": 10,
   "id": "5be88157-612f-4153-bcd3-e832019d0b2a",
   "metadata": {},
   "outputs": [],
   "source": [
    "os.chdir('C:\\\\Users\\\\HP\\\\OneDrive\\\\Desktop\\\\DS course\\\\Elevate lab project\\\\ml-100k\\\\ml-100k\\\\')"
   ]
  },
  {
   "cell_type": "code",
   "execution_count": 13,
   "id": "c5bdcccf-a36e-42a3-a58e-0b41a663bfc4",
   "metadata": {},
   "outputs": [
    {
     "name": "stdout",
     "output_type": "stream",
     "text": [
      "Collaborative Filtering: ['Return of the Jedi (1983)', 'Raiders of the Lost Ark (1981)', 'Empire Strikes Back, The (1980)', 'Toy Story (1995)', 'Godfather, The (1972)']\n",
      "Content-Based Filtering: ['Cutthroat Island (1995)', 'Star Wars (1977)', 'Last of the Mohicans, The (1992)', 'Return of the Jedi (1983)', 'Top Gun (1986)']\n"
     ]
    }
   ],
   "source": [
    "# movie_recommendation_system.py\n",
    "\n",
    "# Step 1: Data Preprocessing\n",
    "import pandas as pd\n",
    "from sklearn.metrics.pairwise import cosine_similarity\n",
    "from sklearn.feature_extraction.text import CountVectorizer\n",
    "\n",
    "# Load data\n",
    "def load_data():\n",
    "    ratings = pd.read_csv(\"u.data\", sep=\"\\t\", names=[\"user_id\", \"movie_id\", \"rating\", \"timestamp\"])\n",
    "    movies = pd.read_csv(\n",
    "        \"u.item\",\n",
    "        sep=\"|\",\n",
    "        encoding=\"latin-1\",\n",
    "        header=None,\n",
    "        names=[\n",
    "            \"movie_id\", \"title\", \"release_date\", \"video_release_date\", \"IMDb_URL\",\n",
    "            \"unknown\", \"Action\", \"Adventure\", \"Animation\", \"Children's\", \"Comedy\",\n",
    "            \"Crime\", \"Documentary\", \"Drama\", \"Fantasy\", \"Film-Noir\", \"Horror\",\n",
    "            \"Musical\", \"Mystery\", \"Romance\", \"Sci-Fi\", \"Thriller\", \"War\", \"Western\"\n",
    "        ],\n",
    "        usecols=[\"movie_id\", \"title\", \"Action\", \"Comedy\", \"Drama\", \"Romance\", \"Thriller\"]\n",
    "    )\n",
    "    df = pd.merge(ratings, movies, on=\"movie_id\")\n",
    "    return df\n",
    "\n",
    "# Step 2: Collaborative Filtering\n",
    "\n",
    "def create_user_movie_matrix(df):\n",
    "    return df.pivot_table(index='user_id', columns='title', values='rating')\n",
    "\n",
    "def get_collaborative_recommendations(title, df, n=5):\n",
    "    matrix = create_user_movie_matrix(df)\n",
    "    movie_ratings = matrix.fillna(0).T\n",
    "    similarity = cosine_similarity(movie_ratings)\n",
    "    similarity_df = pd.DataFrame(similarity, index=movie_ratings.index, columns=movie_ratings.index)\n",
    "    if title not in similarity_df:\n",
    "        return []\n",
    "    similar_movies = similarity_df[title].sort_values(ascending=False)[1:n+1]\n",
    "    return similar_movies.index.tolist()\n",
    "\n",
    "# Step 3: Content-Based Filtering\n",
    "\n",
    "def get_content_based_recommendations(fav_title, df, n=5):\n",
    "    genre_cols = [\"Action\", \"Comedy\", \"Drama\", \"Romance\", \"Thriller\"]\n",
    "    genre_map = df.drop_duplicates(\"title\")[[\"title\"] + genre_cols]\n",
    "    genre_map[\"genre_str\"] = genre_map[genre_cols].astype(str).agg(\"\".join, axis=1)\n",
    "\n",
    "    vectorizer = CountVectorizer()\n",
    "    genre_matrix = vectorizer.fit_transform(genre_map[\"genre_str\"])\n",
    "    similarity = cosine_similarity(genre_matrix)\n",
    "    sim_df = pd.DataFrame(similarity, index=genre_map['title'], columns=genre_map['title'])\n",
    "\n",
    "    if fav_title not in sim_df:\n",
    "        return []\n",
    "    return sim_df[fav_title].sort_values(ascending=False)[1:n+1].index.tolist()\n",
    "\n",
    "# Main Function\n",
    "if __name__ == \"__main__\":\n",
    "    df = load_data()\n",
    "    movie = \"Star Wars (1977)\"\n",
    "    print(\"Collaborative Filtering:\", get_collaborative_recommendations(movie, df))\n",
    "    print(\"Content-Based Filtering:\", get_content_based_recommendations(movie, df))\n"
   ]
  },
  {
   "cell_type": "code",
   "execution_count": 15,
   "id": "0e316a61-ae15-421a-997e-cce80d11bb72",
   "metadata": {},
   "outputs": [
    {
     "name": "stderr",
     "output_type": "stream",
     "text": [
      "2025-06-22 13:25:04.871 \n",
      "  \u001b[33m\u001b[1mWarning:\u001b[0m to view this Streamlit app on a browser, run it with the following\n",
      "  command:\n",
      "\n",
      "    streamlit run C:\\ProgramData\\anaconda3\\Lib\\site-packages\\ipykernel_launcher.py [ARGUMENTS]\n"
     ]
    }
   ],
   "source": [
    "\n",
    "\n",
    "import streamlit as st\n",
    "import pandas as pd\n",
    "from sklearn.metrics.pairwise import cosine_similarity\n",
    "from sklearn.feature_extraction.text import CountVectorizer\n",
    "\n",
    "# --- Data Loading and Preprocessing ---\n",
    "def load_data():\n",
    "    ratings = pd.read_csv(\"u.data\", sep=\"\\t\", names=[\"user_id\", \"movie_id\", \"rating\", \"timestamp\"])\n",
    "    movies = pd.read_csv(\n",
    "        \"u.item\",\n",
    "        sep=\"|\",\n",
    "        encoding=\"latin-1\",\n",
    "        header=None,\n",
    "        names=[\n",
    "            \"movie_id\", \"title\", \"release_date\", \"video_release_date\", \"IMDb_URL\",\n",
    "            \"unknown\", \"Action\", \"Adventure\", \"Animation\", \"Children's\", \"Comedy\",\n",
    "            \"Crime\", \"Documentary\", \"Drama\", \"Fantasy\", \"Film-Noir\", \"Horror\",\n",
    "            \"Musical\", \"Mystery\", \"Romance\", \"Sci-Fi\", \"Thriller\", \"War\", \"Western\"\n",
    "        ],\n",
    "        usecols=[\"movie_id\", \"title\", \"Action\", \"Comedy\", \"Drama\", \"Romance\", \"Thriller\"]\n",
    "    )\n",
    "    df = pd.merge(ratings, movies, on=\"movie_id\")\n",
    "    return df\n",
    "\n",
    "# --- Recommendation Logic ---\n",
    "def create_user_movie_matrix(df):\n",
    "    return df.pivot_table(index='user_id', columns='title', values='rating')\n",
    "\n",
    "def get_collaborative_recommendations(title, df, n=5):\n",
    "    matrix = create_user_movie_matrix(df)\n",
    "    movie_ratings = matrix.fillna(0).T\n",
    "    similarity = cosine_similarity(movie_ratings)\n",
    "    similarity_df = pd.DataFrame(similarity, index=movie_ratings.index, columns=movie_ratings.index)\n",
    "    if title not in similarity_df:\n",
    "        return []\n",
    "    similar_movies = similarity_df[title].sort_values(ascending=False)[1:n+1]\n",
    "    return similar_movies.index.tolist()\n",
    "\n",
    "def get_content_based_recommendations(fav_title, df, n=5):\n",
    "    genre_cols = [\"Action\", \"Comedy\", \"Drama\", \"Romance\", \"Thriller\"]\n",
    "    genre_map = df.drop_duplicates(\"title\")[[\"title\"] + genre_cols]\n",
    "    genre_map[\"genre_str\"] = genre_map[genre_cols].astype(str).agg(\"\".join, axis=1)\n",
    "    vectorizer = CountVectorizer()\n",
    "    genre_matrix = vectorizer.fit_transform(genre_map[\"genre_str\"])\n",
    "    similarity = cosine_similarity(genre_matrix)\n",
    "    sim_df = pd.DataFrame(similarity, index=genre_map['title'], columns=genre_map['title'])\n",
    "    if fav_title not in sim_df:\n",
    "        return []\n",
    "    return sim_df[fav_title].sort_values(ascending=False)[1:n+1].index.tolist()\n",
    "\n",
    "# --- Streamlit UI ---\n",
    "df = load_data()\n",
    "st.title(\"🎬 Movie Recommendation System\")\n",
    "\n",
    "movie_list = sorted(df['title'].unique())\n",
    "selected_movie = st.selectbox(\"Select a movie you like:\", movie_list)\n",
    "\n",
    "method = st.radio(\"Choose recommendation method:\", [\"Collaborative Filtering\", \"Content-Based Filtering\"])\n",
    "\n",
    "if st.button(\"Get Recommendations\"):\n",
    "    if method == \"Collaborative Filtering\":\n",
    "        results = get_collaborative_recommendations(selected_movie, df)\n",
    "    else:\n",
    "        results = get_content_based_recommendations(selected_movie, df)\n",
    "\n",
    "    if results:\n",
    "        st.subheader(\"Top 5 Recommended Movies:\")\n",
    "        for i, movie in enumerate(results, 1):\n",
    "            st.write(f\"{i}. {movie}\")\n",
    "    else:\n",
    "        st.warning(\"No recommendations found. Try another movie.\")\n"
   ]
  },
  {
   "cell_type": "code",
   "execution_count": null,
   "id": "0de4557e-d2ea-4faf-bc97-8d96b535ac7d",
   "metadata": {},
   "outputs": [],
   "source": [
    "\n"
   ]
  },
  {
   "cell_type": "code",
   "execution_count": null,
   "id": "d8a397ba-a928-43c5-af29-07e632c3da14",
   "metadata": {},
   "outputs": [],
   "source": []
  },
  {
   "cell_type": "code",
   "execution_count": null,
   "id": "8764d1a7-cb6d-44cf-8221-0fbbb8227c24",
   "metadata": {},
   "outputs": [],
   "source": []
  },
  {
   "cell_type": "code",
   "execution_count": null,
   "id": "a7a2d1ad-3435-4439-8b09-cbf3816e1069",
   "metadata": {},
   "outputs": [],
   "source": [
    "\n"
   ]
  },
  {
   "cell_type": "code",
   "execution_count": null,
   "id": "9774b994-291c-4eee-b900-f64cfcc3c14f",
   "metadata": {},
   "outputs": [],
   "source": [
    "\n",
    " \n"
   ]
  },
  {
   "cell_type": "code",
   "execution_count": null,
   "id": "ca26ae7d-b3a0-471e-8a38-b82abdf9e213",
   "metadata": {},
   "outputs": [],
   "source": [
    "\n"
   ]
  },
  {
   "cell_type": "code",
   "execution_count": null,
   "id": "820a54fb-6bbb-480e-80ce-bda3aba5e7b0",
   "metadata": {},
   "outputs": [],
   "source": []
  },
  {
   "cell_type": "code",
   "execution_count": null,
   "id": "709dc68c-d470-4242-b6d5-461e0621d3ea",
   "metadata": {},
   "outputs": [],
   "source": [
    "\n"
   ]
  },
  {
   "cell_type": "code",
   "execution_count": null,
   "id": "d7731f5e-2b26-40f5-9c9b-0691ef8ea6c8",
   "metadata": {},
   "outputs": [],
   "source": []
  }
 ],
 "metadata": {
  "kernelspec": {
   "display_name": "Python 3 (ipykernel)",
   "language": "python",
   "name": "python3"
  },
  "language_info": {
   "codemirror_mode": {
    "name": "ipython",
    "version": 3
   },
   "file_extension": ".py",
   "mimetype": "text/x-python",
   "name": "python",
   "nbconvert_exporter": "python",
   "pygments_lexer": "ipython3",
   "version": "3.11.7"
  }
 },
 "nbformat": 4,
 "nbformat_minor": 5
}
